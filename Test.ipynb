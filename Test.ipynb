{
 "cells": [
  {
   "cell_type": "code",
   "execution_count": 39,
   "metadata": {},
   "outputs": [],
   "source": [
    "import iGS\n",
    "import GSx\n",
    "import GSy\n",
    "import Uncertainty\n",
    "from Random import RandomSampling\n",
    "from utils import get_input\n",
    "from utils import normalized_data\n",
    "import pickle\n",
    "import warnings\n",
    "warnings.filterwarnings('ignore')\n",
    "import matplotlib.pyplot as plt\n",
    "import numpy as np\n",
    "from datetime import datetime\n",
    "\n",
    "# Hyperparameters\n",
    "numDataTotal = 509\n",
    "labeledPoolN = 10\n",
    "batchSz = 1\n",
    "nAccs = (numDataTotal-labeledPoolN)//batchSz\n",
    "RepeatTimes = 2\n",
    "# Get the input files\n",
    "myfile =r'Data/CombinedPSP.csv'\n",
    "X, y = get_input(myfile)\n",
    "\n",
    "def main(save=False):\n",
    "    # Run different algorithms to get model performance and labeled data pool\n",
    "    R2Smooth_std1, accuracySmooth1, InfoSmooth_std1, InfoSmooth_mean1,\\\n",
    "    MSEsmooth_std1,MSEsmooth1,MAEsmooth_std1, MAEsmooth1,\\\n",
    "    R2_train_std1, R2_train_mean1, R2_train_stdS1, R2_train_meanS1, SelectData1 = RandomSampling(X, y, labeledPoolN, runs=RepeatTimes)\n",
    "    \n",
    "    # R2Smooth_std2, accuracySmooth2, InfoSmooth_std2, InfoSmooth_mean2,\\\n",
    "    # MSEsmooth_std2,MSEsmooth2,MAEsmooth_std2, MAEsmooth2,\\\n",
    "    # R2_train_std2, R2_train_mean2, R2_train_stdS2, R2_train_meanS2, SelectData2 = Uncertainty(X, y, runs=RepeatTimes )\n",
    "    \n",
    "    # R2Smooth_std3, accuracySmooth3, InfoSmooth_std3, InfoSmooth_mean3,\\\n",
    "    # MSEsmooth_std3,MSEsmooth3,MAEsmooth_std3, MAEsmooth3,\\\n",
    "    # R2_train_std3, R2_train_mean3, R2_train_stdS3, R2_train_meanS3, SelectData3 = GSx(X, y, runs=RepeatTimes)\n",
    "\n",
    "    # R2Smooth_std4, accuracySmooth4, InfoSmooth_std4, InfoSmooth_mean4,\\\n",
    "    # MSEsmooth_std4,MSEsmooth4,MAEsmooth_std4, MAEsmooth4,\\\n",
    "    # R2_train_std4, R2_train_mean4, R2_train_stdS4, R2_train_meanS4, SelectData4 = GSy(X, y, runs=RepeatTimes)\n",
    "    \n",
    "    # R2Smooth_std5, accuracySmooth5, InfoSmooth_std5, InfoSmooth_mean5,\\\n",
    "    # MSEsmooth_std5,MSEsmooth5,MAEsmooth_std5, MAEsmooth5,\\\n",
    "    # R2_train_std5, R2_train_mean5, R2_train_stdS5, R2_train_meanS5, SelectData5 = iGS(X, y, runs=RepeatTimes)\n",
    "\n",
    "    # Save data\n",
    "    # if save:\n",
    "    return R2Smooth_std1, accuracySmooth1, InfoSmooth_std1, InfoSmooth_mean1,\\\n",
    "    MSEsmooth_std1,MSEsmooth1,MAEsmooth_std1, MAEsmooth1,\\\n",
    "    R2_train_std1, R2_train_mean1, R2_train_stdS1, R2_train_meanS1, SelectData1\n",
    "    \n",
    "    # Plotting\n",
    "    ...\n",
    "    \n",
    "\n",
    "\n"
   ]
  },
  {
   "cell_type": "code",
   "execution_count": 13,
   "metadata": {},
   "outputs": [
    {
     "name": "stderr",
     "output_type": "stream",
     "text": [
      "  0%|          | 0/2 [00:00<?, ?it/s]"
     ]
    },
    {
     "name": "stdout",
     "output_type": "stream",
     "text": [
      "Info.shape: (1, 1)\n",
      "R2.shape (1, 1)\n",
      "InfoRes [[0.27790348]]\n"
     ]
    },
    {
     "name": "stderr",
     "output_type": "stream",
     "text": [
      " 50%|█████     | 1/2 [03:51<03:51, 231.42s/it]"
     ]
    },
    {
     "name": "stdout",
     "output_type": "stream",
     "text": [
      "Info.shape: (1, 1)\n",
      "R2.shape (1, 1)\n",
      "InfoRes [[0.39778395]]\n"
     ]
    },
    {
     "name": "stderr",
     "output_type": "stream",
     "text": [
      "100%|██████████| 2/2 [07:44<00:00, 232.50s/it]\n"
     ]
    }
   ],
   "source": [
    "R2Smooth_std1, accuracySmooth1, InfoSmooth_std1, InfoSmooth_mean1,\\\n",
    "    MSEsmooth_std1,MSEsmooth1,MAEsmooth_std1, MAEsmooth1,\\\n",
    "    R2_train_std1, R2_train_mean1, R2_train_stdS1, R2_train_meanS1, SelectData1=main()"
   ]
  },
  {
   "cell_type": "code",
   "execution_count": 18,
   "metadata": {},
   "outputs": [
    {
     "data": {
      "text/plain": [
       "(410, 1)"
      ]
     },
     "execution_count": 18,
     "metadata": {},
     "output_type": "execute_result"
    }
   ],
   "source": [
    "MAEsmooth1.shape\n",
    "MAEsmooth_std1.shape"
   ]
  },
  {
   "cell_type": "code",
   "execution_count": 15,
   "metadata": {},
   "outputs": [
    {
     "data": {
      "text/plain": [
       "(419, 6)"
      ]
     },
     "execution_count": 15,
     "metadata": {},
     "output_type": "execute_result"
    }
   ],
   "source": [
    "SelectData1[0].shape"
   ]
  },
  {
   "cell_type": "code",
   "execution_count": 22,
   "metadata": {},
   "outputs": [
    {
     "data": {
      "text/plain": [
       "<matplotlib.collections.PolyCollection at 0x1734fb8d0>"
      ]
     },
     "execution_count": 22,
     "metadata": {},
     "output_type": "execute_result"
    },
    {
     "data": {
      "image/png": "[encoded data removed]",
      "text/plain": [
       "<Figure size 640x480 with 1 Axes>"
      ]
     },
     "metadata": {},
     "output_type": "display_data"
    }
   ],
   "source": [
    "x_values = np.arange(len(MAEsmooth1))\n",
    "\n",
    "plt.plot(x_values, MAEsmooth1)\n",
    "plt.fill_between(x_values, (MAEsmooth1+MAEsmooth_std1).flatten(), (MAEsmooth1-MAEsmooth_std1).flatten(), alpha=0.2)"
   ]
  },
  {
   "cell_type": "code",
   "execution_count": null,
   "metadata": {},
   "outputs": [],
   "source": []
  },
  {
   "cell_type": "code",
   "execution_count": null,
   "metadata": {},
   "outputs": [],
   "source": [
    "# trying errorbar?\n",
    "\n",
    "# Assuming you have y-axis data in MAEsmooth1 and error data in MAEsmooth_std1\n",
    "ylog = False  # Set to True if using a logarithmic scale\n",
    "\n",
    "fig, ax = plt.subplots()\n",
    "\n",
    "offset = 10\n",
    "error_freq = 5\n",
    "\n",
    "for i, (y, e) in enumerate(zip(MAEsmooth1, MAEsmooth_std1)):\n",
    "    x = np.arange(len(y))\n",
    "\n",
    "    if ylog:\n",
    "        p = ax.semilogy(x, y, label=f'Data {i}', lw=3)\n",
    "    else:\n",
    "        p = ax.plot(x, y, label=f'Data {i}', lw=3)\n",
    "\n",
    "    xe, ye, ee = x[offset::error_freq], y[offset::error_freq], e[offset::error_freq]\n",
    "    ax.errorbar(xe, ye, yerr=ee, alpha=0.5, ls='none', ecolor=p[0].get_color(), elinewidth=3, capsize=4, capthick=3)\n",
    "    offset += 5\n",
    "\n",
    "plt.xlabel('X-axis')\n",
    "plt.ylabel('MAE Smooth')\n",
    "plt.title('MAE Smooth with Error Bars')\n",
    "plt.legend()\n",
    "plt.grid(True)\n",
    "\n",
    "plt.show()\n"
   ]
  },
  {
   "cell_type": "code",
   "execution_count": 37,
   "metadata": {},
   "outputs": [],
   "source": [
    "results = {\n",
    "    'R2Smooth_std1': R2Smooth_std1,\n",
    "    'accuracySmooth1': accuracySmooth1,\n",
    "    'InfoSmooth_std1': InfoSmooth_std1,\n",
    "    'InfoSmooth_mean1': InfoSmooth_mean1,\n",
    "    'MSEsmooth_std1': MSEsmooth_std1,\n",
    "    'MSEsmooth1': MSEsmooth1,\n",
    "    'MAEsmooth_std1': MAEsmooth_std1,\n",
    "    'MAEsmooth1': MAEsmooth1,\n",
    "    'R2_train_std1': R2_train_std1,\n",
    "    'R2_train_mean1': R2_train_mean1,\n",
    "    'R2_train_stdS1': R2_train_stdS1,\n",
    "    'R2_train_meanS1': R2_train_meanS1,\n",
    "    'SelectData1': SelectData1\n",
    "}"
   ]
  },
  {
   "cell_type": "code",
   "execution_count": 47,
   "metadata": {},
   "outputs": [
    {
     "data": {
      "text/plain": [
       "13"
      ]
     },
     "execution_count": 47,
     "metadata": {},
     "output_type": "execute_result"
    }
   ],
   "source": [
    "len(results)"
   ]
  },
  {
   "cell_type": "code",
   "execution_count": 45,
   "metadata": {},
   "outputs": [],
   "source": [
    "# Define the path to your local folder and filename\n",
    "folder_path = 'Results_Data/'\n",
    "file_name = f'results_data_{current_date_time}.pkl'"
   ]
  },
  {
   "cell_type": "code",
   "execution_count": 46,
   "metadata": {},
   "outputs": [],
   "source": [
    "# Save the results to a file in the specified folder\n",
    "with open(folder_path + file_name, 'wb') as file:\n",
    "    pickle.dump(results, file)"
   ]
  },
  {
   "cell_type": "code",
   "execution_count": 42,
   "metadata": {},
   "outputs": [
    {
     "name": "stdout",
     "output_type": "stream",
     "text": [
      "Current date and time: 2023-12-13_11-15\n"
     ]
    }
   ],
   "source": [
    "current_date_time = datetime.now().strftime(\"%Y-%m-%d_%H-%M\")\n",
    "print(\"Current date and time:\", current_date_time)"
   ]
  },
  {
   "cell_type": "code",
   "execution_count": null,
   "metadata": {},
   "outputs": [],
   "source": []
  }
 ],
 "metadata": {
  "kernelspec": {
   "display_name": "ActiveLearning",
   "language": "python",
   "name": "python3"
  },
  "language_info": {
   "codemirror_mode": {
    "name": "ipython",
    "version": 3
   },
   "file_extension": ".py",
   "mimetype": "text/x-python",
   "name": "python",
   "nbconvert_exporter": "python",
   "pygments_lexer": "ipython3",
   "version": "3.11.5"
  }
 },
 "nbformat": 4,
 "nbformat_minor": 2
}
